{
 "cells": [
  {
   "cell_type": "markdown",
   "metadata": {},
   "source": [
    "There are two tasks that I need to complete for this week.\n",
    "\n",
    "Firstly is building my own learning class/object/thingy.\n",
    "\n",
    "Secondly I need to use this new learner object to create a model to classify the MNIST dataset.\n",
    "\n",
    "Exciting!\n"
   ]
  },
  {
   "cell_type": "code",
   "execution_count": 171,
   "metadata": {},
   "outputs": [],
   "source": [
    "# Needed modules\n",
    "\n",
    "import torch\n",
    "import numpy as np\n",
    "from fastai.vision.all import *\n",
    "\n",
    "from torch import nn\n",
    "import matplotlib.pyplot as plt\n",
    "\n",
    "# built int\n",
    "\n",
    "import os"
   ]
  },
  {
   "cell_type": "code",
   "execution_count": 172,
   "metadata": {},
   "outputs": [
    {
     "data": {
      "text/plain": [
       "device(type='cuda')"
      ]
     },
     "execution_count": 172,
     "metadata": {},
     "output_type": "execute_result"
    }
   ],
   "source": [
    "device = torch.device(\"cuda\" if torch.cuda.is_available() else \"cpu\")\n",
    "device"
   ]
  },
  {
   "cell_type": "markdown",
   "metadata": {},
   "source": [
    "## Building learner\n",
    "\n",
    "A learner needs 4 bits of information to work\n",
    "- Data\n",
    "- Model\n",
    "- Optimizer\n",
    "- Loss function"
   ]
  },
  {
   "cell_type": "markdown",
   "metadata": {},
   "source": [
    "### Getting data"
   ]
  },
  {
   "cell_type": "code",
   "execution_count": 170,
   "metadata": {},
   "outputs": [],
   "source": [
    "class MyOptimizer:\n",
    "    def __init__(self, params, lr):\n",
    "        self.params = list(params)\n",
    "        self.lr = lr\n",
    "\n",
    "    def step(self):\n",
    "        for p in self.params:\n",
    "            with torch.no_grad():\n",
    "                p -= self.lr * p.grad\n",
    "\n",
    "    def zero_grad(self):\n",
    "        for p in self.params:\n",
    "            if p.grad is not None:\n",
    "                p.grad.zero_()\n",
    "\n",
    "class MyLearner:\n",
    "    def __init__(self, dls, model, loss_func, metric_func):\n",
    "        self.dls = dls\n",
    "        self.model = model\n",
    "        self.loss_func = loss_func\n",
    "        self.metric_func = metric_func\n",
    "\n",
    "    def train_epoch(self, opt):\n",
    "        updates = 0\n",
    "        for xb, yb in self.dls.train:\n",
    "            updates += 1\n",
    "            pred = self.model(xb)\n",
    "            loss = self.loss_func(pred, yb)\n",
    "            loss.backward()\n",
    "            opt.step()\n",
    "            opt.zero_grad()\n",
    "        print(f\"Train loops: {updates}\")\n",
    "        return loss\n",
    "    \n",
    "\n",
    "    def validate_epoch(self):\n",
    "        with torch.no_grad():\n",
    "            accs = [self.metric_func(self.model(xb), yb) for xb,yb in self.dls.valid]\n",
    "        return round(torch.stack(accs).mean().item(), 4) \n",
    "\n",
    "    \n",
    "    def fit(self, epochs, lr):\n",
    "        opt = MyOptimizer(self.model.parameters(), lr)\n",
    "        opt.zero_grad()\n",
    "        print(\"Epoch Train_Loss Valid_Accuracy  Time\")\n",
    "        for epoch in range(epochs):\n",
    "            start = time.time()\n",
    "            train_loss = self.train_epoch(opt)\n",
    "            end = time.time()\n",
    "            accuracy = self.validate_epoch()\n",
    "            print(f\" {epoch:02}:    {train_loss:.4f}     {accuracy:.4f}   {end-start:.4f}\")\n",
    "\n",
    "        \n",
    "    def transform(self, x):\n",
    "        return self.model(x)\n",
    "\n",
    "    def predict(self, x):\n",
    "        return self.transform(x).argmax(dim=0)\n"
   ]
  },
  {
   "cell_type": "markdown",
   "metadata": {},
   "source": [
    "# 3 and 7 MNIST calssifier\n"
   ]
  },
  {
   "cell_type": "markdown",
   "metadata": {},
   "source": [
    "## Getting data"
   ]
  },
  {
   "cell_type": "code",
   "execution_count": 3,
   "metadata": {},
   "outputs": [],
   "source": [
    "path = untar_data(URLs.MNIST_SAMPLE)"
   ]
  },
  {
   "cell_type": "markdown",
   "metadata": {},
   "source": [
    "### Training"
   ]
  },
  {
   "cell_type": "code",
   "execution_count": 4,
   "metadata": {},
   "outputs": [
    {
     "data": {
      "text/plain": [
       "(torch.Size([784]), tensor([1]))"
      ]
     },
     "execution_count": 4,
     "metadata": {},
     "output_type": "execute_result"
    }
   ],
   "source": [
    "\n",
    "threes = (path/'train'/'3').ls().sorted()\n",
    "sevens = (path/'train'/'7').ls().sorted()\n",
    "\n",
    "three_tensors = [tensor(Image.open(o)) for o in threes]\n",
    "seven_tensors = [tensor(Image.open(o)) for o in sevens]\n",
    "\n",
    "stacked_3d = torch.stack(three_tensors).float()/255\n",
    "stacked_7d = torch.stack(seven_tensors).float()/255\n",
    "\n",
    "train_x = torch.cat([stacked_3d, stacked_7d]).view(-1, 28*28)\n",
    "train_y = tensor([1]*len(threes) + [0]*len(sevens)).unsqueeze(1)\n",
    "\n",
    "dset = list(zip(train_x, train_y))\n",
    "x,y = dset[0]\n",
    "x.shape, y"
   ]
  },
  {
   "cell_type": "code",
   "execution_count": 5,
   "metadata": {},
   "outputs": [
    {
     "data": {
      "text/plain": [
       "(torch.Size([784]), torch.Size([1]))"
      ]
     },
     "execution_count": 5,
     "metadata": {},
     "output_type": "execute_result"
    }
   ],
   "source": [
    "dl = DataLoader(dset)\n",
    "\n",
    "xb,yb = first(dl)\n",
    "xb.shape, yb.shape"
   ]
  },
  {
   "cell_type": "markdown",
   "metadata": {},
   "source": [
    "### Validation"
   ]
  },
  {
   "cell_type": "code",
   "execution_count": 6,
   "metadata": {},
   "outputs": [
    {
     "data": {
      "text/plain": [
       "(torch.Size([784]), tensor([1]))"
      ]
     },
     "execution_count": 6,
     "metadata": {},
     "output_type": "execute_result"
    }
   ],
   "source": [
    "valid_x = torch.cat([\n",
    "    torch.stack([\n",
    "        tensor(Image.open(o)).float()/255\n",
    "        for o in (path/'valid'/'3').ls()\n",
    "    ]),\n",
    "    torch.stack([\n",
    "        tensor(Image.open(o)).float()/255\n",
    "        for o in (path/'valid'/'7').ls()\n",
    "    ])\n",
    "]).view(-1, 28*28)\n",
    "\n",
    "valid_y = tensor([1]*len((path/'valid'/'3').ls()) + [0]*len((path/'valid'/'7').ls())).unsqueeze(1)\n",
    "\n",
    "valid_dset = list(zip(valid_x, valid_y))\n",
    "x,y = valid_dset[0]\n",
    "x.shape, y"
   ]
  },
  {
   "cell_type": "code",
   "execution_count": 7,
   "metadata": {},
   "outputs": [
    {
     "data": {
      "text/plain": [
       "(torch.Size([784]), torch.Size([1]))"
      ]
     },
     "execution_count": 7,
     "metadata": {},
     "output_type": "execute_result"
    }
   ],
   "source": [
    "valid_dl = DataLoader(valid_dset)\n",
    "\n",
    "xb,yb = first(valid_dl)\n",
    "xb.shape, yb.shape"
   ]
  },
  {
   "cell_type": "markdown",
   "metadata": {},
   "source": [
    "## Functions"
   ]
  },
  {
   "cell_type": "code",
   "execution_count": 9,
   "metadata": {},
   "outputs": [
    {
     "data": {
      "text/plain": [
       "tensor(0.4460)"
      ]
     },
     "execution_count": 9,
     "metadata": {},
     "output_type": "execute_result"
    }
   ],
   "source": [
    "def mnist_loss(preds, targets):\n",
    "    preds = preds.sigmoid()\n",
    "    return torch.where(targets==1, 1-preds, preds).mean()\n",
    "\n",
    "mnist_loss(torch.tensor([0.9, 0.4, 0.2]), tensor([1,0,1]))"
   ]
  },
  {
   "cell_type": "code",
   "execution_count": 10,
   "metadata": {},
   "outputs": [
    {
     "data": {
      "text/plain": [
       "tensor(0.6667)"
      ]
     },
     "execution_count": 10,
     "metadata": {},
     "output_type": "execute_result"
    }
   ],
   "source": [
    "def mnist_accuracy(xb, yb):\n",
    "    preds = xb.sigmoid()\n",
    "    correct = (preds>0.5) == yb\n",
    "    return correct.float().mean()\n",
    "\n",
    "mnist_accuracy(torch.tensor([0.9, 0.4, 0.2]), tensor([1,0,1]))"
   ]
  },
  {
   "cell_type": "markdown",
   "metadata": {},
   "source": [
    "## Putting it all togather"
   ]
  },
  {
   "cell_type": "code",
   "execution_count": 11,
   "metadata": {},
   "outputs": [],
   "source": [
    "dls = DataLoaders(dl, valid_dl)"
   ]
  },
  {
   "cell_type": "code",
   "execution_count": 12,
   "metadata": {},
   "outputs": [
    {
     "data": {
      "text/plain": [
       "torch.Size([784])"
      ]
     },
     "execution_count": 12,
     "metadata": {},
     "output_type": "execute_result"
    }
   ],
   "source": [
    "dls.train.one_batch()[0].shape"
   ]
  },
  {
   "cell_type": "code",
   "execution_count": 13,
   "metadata": {},
   "outputs": [
    {
     "name": "stdout",
     "output_type": "stream",
     "text": [
      "Epoch Train_Loss Valid_Accuracy  Time\n",
      "Train loops: 12396\n",
      " 00:    0.0023     0.5118   3.5886\n",
      "Train loops: 12396\n",
      " 01:    0.0007     0.8292   3.7498\n",
      "Train loops: 12396\n",
      " 02:    0.0004     0.9190   4.5181\n",
      "Train loops: 12396\n",
      " 03:    0.0003     0.9426   4.7744\n",
      "Train loops: 12396\n",
      " 04:    0.0002     0.9563   3.5970\n",
      "Train loops: 12396\n",
      " 05:    0.0002     0.9661   3.4616\n",
      "Train loops: 12396\n",
      " 06:    0.0002     0.9676   3.7780\n",
      "Train loops: 12396\n",
      " 07:    0.0001     0.9676   3.9274\n",
      "Train loops: 12396\n",
      " 08:    0.0001     0.9701   3.5247\n",
      "Train loops: 12396\n",
      " 09:    0.0001     0.9711   3.9182\n",
      "Train loops: 12396\n",
      " 10:    0.0001     0.9725   3.5024\n",
      "Train loops: 12396\n",
      " 11:    0.0001     0.9730   3.6048\n",
      "Train loops: 12396\n",
      " 12:    0.0001     0.9745   3.4185\n",
      "Train loops: 12396\n",
      " 13:    0.0001     0.9750   3.3832\n",
      "Train loops: 12396\n",
      " 14:    0.0001     0.9755   3.4099\n",
      "Train loops: 12396\n",
      " 15:    0.0001     0.9755   3.3242\n",
      "Train loops: 12396\n",
      " 16:    0.0001     0.9769   3.3767\n",
      "Train loops: 12396\n",
      " 17:    0.0001     0.9769   3.4246\n",
      "Train loops: 12396\n",
      " 18:    0.0001     0.9769   3.3773\n",
      "Train loops: 12396\n",
      " 19:    0.0001     0.9769   3.3494\n"
     ]
    }
   ],
   "source": [
    "linear_model = nn.Linear(28*28, 1)\n",
    "\n",
    "learner = MyLearner(dls, linear_model, mnist_loss, mnist_accuracy)\n",
    "\n",
    "learner.fit(20, 0.001)"
   ]
  },
  {
   "cell_type": "code",
   "execution_count": 14,
   "metadata": {},
   "outputs": [
    {
     "name": "stdout",
     "output_type": "stream",
     "text": [
      "Epoch Train_Loss Valid_Accuracy  Time\n",
      "Train loops: 12396\n",
      " 00:    0.0037     0.5044   5.4948\n",
      "Train loops: 12396\n",
      " 01:    0.0006     0.7512   5.5774\n",
      "Train loops: 12396\n",
      " 02:    0.0002     0.8813   5.5449\n",
      "Train loops: 12396\n",
      " 03:    0.0001     0.9181   5.4589\n",
      "Train loops: 12396\n",
      " 04:    0.0001     0.9362   5.5031\n",
      "Train loops: 12396\n",
      " 05:    0.0000     0.9500   5.4912\n",
      "Train loops: 12396\n",
      " 06:    0.0000     0.9578   5.4871\n",
      "Train loops: 12396\n",
      " 07:    0.0000     0.9607   5.5752\n",
      "Train loops: 12396\n",
      " 08:    0.0000     0.9652   5.6467\n",
      "Train loops: 12396\n",
      " 09:    0.0000     0.9681   5.5447\n",
      "Train loops: 12396\n",
      " 10:    0.0000     0.9691   5.4525\n",
      "Train loops: 12396\n",
      " 11:    0.0000     0.9706   5.2736\n",
      "Train loops: 12396\n",
      " 12:    0.0000     0.9735   5.1758\n",
      "Train loops: 12396\n",
      " 13:    0.0000     0.9745   5.3209\n",
      "Train loops: 12396\n",
      " 14:    0.0000     0.9750   5.5401\n",
      "Train loops: 12396\n",
      " 15:    0.0000     0.9755   5.3954\n",
      "Train loops: 12396\n",
      " 16:    0.0000     0.9760   5.3875\n",
      "Train loops: 12396\n",
      " 17:    0.0000     0.9764   5.5870\n",
      "Train loops: 12396\n",
      " 18:    0.0000     0.9764   5.3483\n",
      "Train loops: 12396\n",
      " 19:    0.0000     0.9769   5.3266\n"
     ]
    }
   ],
   "source": [
    "nn_basic = nn.Sequential(\n",
    "    nn.Linear(28*28, 30),\n",
    "    nn.ReLU(),\n",
    "    nn.Linear(30, 1),\n",
    ")\n",
    "\n",
    "learner = MyLearner(dls, nn_basic, mnist_loss, mnist_accuracy)\n",
    "\n",
    "learner.fit(20, 0.001)"
   ]
  },
  {
   "cell_type": "markdown",
   "metadata": {},
   "source": [
    "# Complete MNIST"
   ]
  },
  {
   "cell_type": "markdown",
   "metadata": {},
   "source": [
    "## Getting data"
   ]
  },
  {
   "cell_type": "code",
   "execution_count": 173,
   "metadata": {},
   "outputs": [
    {
     "data": {
      "text/plain": [
       "(#2) [Path('/home/james/.fastai/data/mnist_png/testing'),Path('/home/james/.fastai/data/mnist_png/training')]"
      ]
     },
     "execution_count": 173,
     "metadata": {},
     "output_type": "execute_result"
    }
   ],
   "source": [
    "path = untar_data(URLs.MNIST)\n",
    "path.ls()"
   ]
  },
  {
   "cell_type": "code",
   "execution_count": 174,
   "metadata": {},
   "outputs": [
    {
     "data": {
      "text/plain": [
       "(48000, 12000)"
      ]
     },
     "execution_count": 174,
     "metadata": {},
     "output_type": "execute_result"
    }
   ],
   "source": [
    "train_path = (path/'training').ls().sorted()\n",
    "\n",
    "all_data = [(tensor(Image.open(o)), int(path.name))\n",
    "            for path in train_path\n",
    "            for o in (path).ls()]\n",
    "\n",
    "all_data\n",
    "\n",
    "# shuffle\n",
    "\n",
    "random.shuffle(all_data)\n",
    "\n",
    "\n",
    "split = int(len(all_data)*0.8)\n",
    "\n",
    "train_data = all_data[:split]\n",
    "valid_data = all_data[split:]\n",
    "\n",
    "len(train_data), len(valid_data)"
   ]
  },
  {
   "cell_type": "code",
   "execution_count": 175,
   "metadata": {},
   "outputs": [
    {
     "name": "stdout",
     "output_type": "stream",
     "text": [
      "torch.Size([48000, 784]) torch.Size([48000, 1])\n",
      "48000\n",
      "torch.Size([12000, 784]) torch.Size([12000, 1])\n",
      "12000\n"
     ]
    },
    {
     "data": {
      "text/plain": [
       "(torch.Size([64, 784]), torch.Size([64, 1]))"
      ]
     },
     "execution_count": 175,
     "metadata": {},
     "output_type": "execute_result"
    }
   ],
   "source": [
    "def get_dl(data_list):\n",
    "    x = torch.stack([o[0] for o in data_list]).float()/255\n",
    "    x = x.view(-1, 28*28)\n",
    "    y = tensor([o[1] for o in data_list]).unsqueeze(1)\n",
    "    print(x.shape, y.shape)\n",
    "\n",
    "    dset = list(zip(x,y))\n",
    "\n",
    "    print(len(dset))\n",
    "\n",
    "    dl = DataLoader(dset, batch_size=64)\n",
    "\n",
    "    return dl\n",
    "\n",
    "train_dl = get_dl(train_data)\n",
    "valid_dl = get_dl(valid_data)\n",
    "\n",
    "train_dl.one_batch()[0].shape, valid_dl.one_batch()[1].shape"
   ]
  },
  {
   "cell_type": "code",
   "execution_count": 176,
   "metadata": {},
   "outputs": [
    {
     "data": {
      "image/png": "[encoded data removed]",
      "text/plain": [
       "<Figure size 1500x300 with 10 Axes>"
      ]
     },
     "metadata": {},
     "output_type": "display_data"
    },
    {
     "data": {
      "image/png": "[encoded data removed]",
      "text/plain": [
       "<Figure size 1500x300 with 10 Axes>"
      ]
     },
     "metadata": {},
     "output_type": "display_data"
    }
   ],
   "source": [
    "def visualize_samples(batch, num_samples=10):\n",
    "    # Get a batch of data from the data loader\n",
    "    images, labels = batch\n",
    "    images = images.view(-1, 28, 28)  # Reshape images to 28x28\n",
    "    \n",
    "    # Plot the specified number of samples\n",
    "    fig, axes = plt.subplots(1, num_samples, figsize=(15, 3))\n",
    "    for i in range(num_samples):\n",
    "        axes[i].imshow(images[i].numpy(), cmap='gray')\n",
    "        axes[i].set_title(f'Label: {labels[i].item()}')\n",
    "        axes[i].axis('off')\n",
    "    plt.show()\n",
    "\n",
    "# Visualize samples from training and validation data loaders\n",
    "visualize_samples(train_dl.one_batch())\n",
    "visualize_samples(valid_dl.one_batch())\n"
   ]
  },
  {
   "cell_type": "code",
   "execution_count": 178,
   "metadata": {},
   "outputs": [],
   "source": [
    "dls = DataLoaders(train_dl, valid_dl)"
   ]
  },
  {
   "cell_type": "markdown",
   "metadata": {},
   "source": [
    "## Needed function"
   ]
  },
  {
   "cell_type": "code",
   "execution_count": 207,
   "metadata": {},
   "outputs": [
    {
     "data": {
      "text/plain": [
       "torch.Size([64, 10])"
      ]
     },
     "execution_count": 207,
     "metadata": {},
     "output_type": "execute_result"
    }
   ],
   "source": [
    "mnist_model = nn.Sequential(\n",
    "    nn.Linear(28*28, 30),\n",
    "    nn.ReLU(),\n",
    "    nn.Linear(30, 10)\n",
    ")\n",
    "\n",
    "# mnist_model = nn.Sequential(\n",
    "#     nn.Linear(28*28, 128),\n",
    "#     nn.ReLU(),\n",
    "#     nn.Linear(128, 64),\n",
    "#     nn.ReLU(),\n",
    "#     nn.Linear(64, 10)\n",
    "# )\n",
    "\n",
    "mnist_model(train_dl.one_batch()[0]).shape"
   ]
  },
  {
   "cell_type": "code",
   "execution_count": 188,
   "metadata": {},
   "outputs": [
    {
     "data": {
      "text/plain": [
       "(torch.Size([64, 10]), torch.Size([64, 1]))"
      ]
     },
     "execution_count": 188,
     "metadata": {},
     "output_type": "execute_result"
    }
   ],
   "source": [
    "preds = mnist_model(train_dl.one_batch()[0])\n",
    "targets = train_dl.one_batch()[1]\n",
    "\n",
    "preds.shape, targets.shape"
   ]
  },
  {
   "cell_type": "code",
   "execution_count": 189,
   "metadata": {},
   "outputs": [
    {
     "data": {
      "text/plain": [
       "tensor([5, 1, 8, 1, 2, 4, 6, 9, 0, 6, 9, 2, 0, 8, 4, 7, 5, 1, 5, 1, 1, 3, 3, 7,\n",
       "        1, 3, 4, 5, 4, 6, 1, 7, 5, 0, 3, 7, 5, 6, 5, 2, 4, 3, 5, 1, 9, 5, 0, 9,\n",
       "        5, 7, 3, 9, 2, 0, 9, 5, 1, 4, 8, 9, 0, 4, 6, 5])"
      ]
     },
     "execution_count": 189,
     "metadata": {},
     "output_type": "execute_result"
    }
   ],
   "source": [
    "targets.view(-1)"
   ]
  },
  {
   "cell_type": "code",
   "execution_count": 200,
   "metadata": {},
   "outputs": [
    {
     "data": {
      "text/plain": [
       "tensor([[0.9261, 0.7523, 0.7815, 0.5587, 0.9547, 0.3564, 0.9957, 0.5457, 0.9605,\n",
       "         0.7544],\n",
       "        [0.7494, 0.8851, 0.9722, 0.9944, 0.3382, 0.7579, 0.5753, 0.2673, 0.1166,\n",
       "         0.3712],\n",
       "        [0.0948, 0.6444, 0.0074, 0.1551, 0.0752, 0.8233, 0.2820, 0.0842, 0.5581,\n",
       "         0.2289],\n",
       "        [0.2603, 0.6603, 0.6184, 0.3055, 0.7156, 0.6018, 0.3889, 0.0617, 0.7188,\n",
       "         0.6093],\n",
       "        [0.6258, 0.9553, 0.1366, 0.4280, 0.8662, 0.4507, 0.7663, 0.3752, 0.7364,\n",
       "         0.8468]])"
      ]
     },
     "metadata": {},
     "output_type": "display_data"
    },
    {
     "data": {
      "text/plain": [
       "tensor([9, 5, 7, 4, 1])"
      ]
     },
     "metadata": {},
     "output_type": "display_data"
    },
    {
     "data": {
      "text/plain": [
       "tensor(2.2334)"
      ]
     },
     "execution_count": 200,
     "metadata": {},
     "output_type": "execute_result"
    }
   ],
   "source": [
    "def complete_mnist_loss(preds, targets):\n",
    "    # preds = preds.softmax(1)\n",
    "    # display(preds)\n",
    "    # targets = targets.view(-1)\n",
    "    # targets_probs = preds[range(targets.shape[0]), targets]\n",
    "\n",
    "    # display(targets_probs)\n",
    "    # return -torch.log(targets_probs).mean()\n",
    "\n",
    "    # print(preds.shape, targets.shape)\n",
    "    # print(targets * preds.log())\n",
    "    # return -(targets * preds.log()).sum() / len(preds)\n",
    "    return nn.functional.cross_entropy(preds, targets.squeeze())\n",
    "    \n",
    "random_preds = tensor([[0.9261, 0.7523, 0.7815, 0.5587, 0.9547, 0.3564, 0.9957, 0.5457, 0.9605,\n",
    "         0.7544],\n",
    "        [0.7494, 0.8851, 0.9722, 0.9944, 0.3382, 0.7579, 0.5753, 0.2673, 0.1166,\n",
    "         0.3712],\n",
    "        [0.0948, 0.6444, 0.0074, 0.1551, 0.0752, 0.8233, 0.2820, 0.0842, 0.5581,\n",
    "         0.2289],\n",
    "        [0.2603, 0.6603, 0.6184, 0.3055, 0.7156, 0.6018, 0.3889, 0.0617, 0.7188,\n",
    "         0.6093],\n",
    "        [0.6258, 0.9553, 0.1366, 0.4280, 0.8662, 0.4507, 0.7663, 0.3752, 0.7364,\n",
    "         0.8468]])\n",
    "display(random_preds)\n",
    "random_targets = tensor([9, 5, 7, 4, 1])\n",
    "display(random_targets)\n",
    "complete_mnist_loss(random_preds, random_targets)"
   ]
  },
  {
   "cell_type": "code",
   "execution_count": 191,
   "metadata": {},
   "outputs": [
    {
     "data": {
      "text/plain": [
       "tensor([[0.5016, 0.6549, 0.4489, 0.3574, 0.1934, 0.4519, 0.5101, 0.3282, 0.5563,\n",
       "         0.7822],\n",
       "        [0.1934, 0.7311, 0.1284, 0.2372, 0.1636, 0.1245, 0.6112, 0.1970, 0.6230,\n",
       "         0.9090],\n",
       "        [0.9908, 0.7340, 0.9985, 0.5289, 0.6752, 0.8910, 0.0796, 0.4047, 0.4377,\n",
       "         0.3398],\n",
       "        [0.4219, 0.3908, 0.3633, 0.0650, 0.7911, 0.6046, 0.5971, 0.1385, 0.7142,\n",
       "         0.2435],\n",
       "        [0.5443, 0.8052, 0.0297, 0.0520, 0.4307, 0.1545, 0.8662, 0.0265, 0.4005,\n",
       "         0.7004]])"
      ]
     },
     "metadata": {},
     "output_type": "display_data"
    },
    {
     "data": {
      "text/plain": [
       "tensor([[2],\n",
       "        [3],\n",
       "        [8],\n",
       "        [9],\n",
       "        [3]])"
      ]
     },
     "metadata": {},
     "output_type": "display_data"
    },
    {
     "data": {
      "text/plain": [
       "tensor(0.)"
      ]
     },
     "execution_count": 191,
     "metadata": {},
     "output_type": "execute_result"
    }
   ],
   "source": [
    "def complete_mnist_accuracy(preds, targets):\n",
    "    preds = preds.argmax(dim=1)\n",
    "    targets = targets.squeeze()\n",
    "    correct = (preds == targets).float()\n",
    "    return correct.float().mean()\n",
    "\n",
    "random_preds = torch.rand((5, 10))\n",
    "display(random_preds)\n",
    "random_targets = torch.randint(0, 10, (5, 1))\n",
    "display(random_targets)\n",
    "complete_mnist_accuracy(random_preds, random_targets)"
   ]
  },
  {
   "cell_type": "code",
   "execution_count": 208,
   "metadata": {},
   "outputs": [
    {
     "name": "stdout",
     "output_type": "stream",
     "text": [
      "Epoch Train_Loss Valid_Accuracy  Time\n",
      "Train loops: 750\n",
      " 00:    0.6603     0.8265   1.4740\n",
      "Train loops: 750\n",
      " 01:    0.3746     0.8720   1.7726\n",
      "Train loops: 750\n",
      " 02:    0.2854     0.8878   1.5143\n",
      "Train loops: 750\n",
      " 03:    0.2437     0.8944   1.4211\n",
      "Train loops: 750\n",
      " 04:    0.2190     0.8994   1.4380\n",
      "Train loops: 750\n",
      " 05:    0.2023     0.9033   1.4473\n",
      "Train loops: 750\n",
      " 06:    0.1900     0.9063   1.4664\n",
      "Train loops: 750\n",
      " 07:    0.1798     0.9096   1.8465\n",
      "Train loops: 750\n",
      " 08:    0.1713     0.9116   1.4552\n",
      "Train loops: 750\n",
      " 09:    0.1641     0.9136   1.7202\n",
      "Train loops: 750\n",
      " 10:    0.1577     0.9151   1.4715\n",
      "Train loops: 750\n",
      " 11:    0.1528     0.9173   1.4127\n",
      "Train loops: 750\n",
      " 12:    0.1488     0.9193   1.4349\n",
      "Train loops: 750\n",
      " 13:    0.1456     0.9213   1.5143\n",
      "Train loops: 750\n",
      " 14:    0.1424     0.9231   1.5981\n",
      "Train loops: 750\n",
      " 15:    0.1398     0.9247   1.4805\n",
      "Train loops: 750\n",
      " 16:    0.1371     0.9254   1.6357\n",
      "Train loops: 750\n",
      " 17:    0.1345     0.9265   1.4129\n",
      "Train loops: 750\n",
      " 18:    0.1322     0.9274   1.4157\n",
      "Train loops: 750\n",
      " 19:    0.1296     0.9290   1.4310\n"
     ]
    }
   ],
   "source": [
    "\n",
    "learner = MyLearner(dls, mnist_model, complete_mnist_loss, complete_mnist_accuracy)\n",
    "\n",
    "learner.fit(20, 0.01)"
   ]
  },
  {
   "cell_type": "code",
   "execution_count": 166,
   "metadata": {},
   "outputs": [
    {
     "data": {
      "text/plain": [
       "tensor([3, 1, 3, 1, 4, 4, 3, 0, 4, 0], device='cuda:0')"
      ]
     },
     "execution_count": 166,
     "metadata": {},
     "output_type": "execute_result"
    }
   ],
   "source": [
    "learner.predict(train_dl.one_batch()[0][0:5])"
   ]
  },
  {
   "cell_type": "code",
   "execution_count": 167,
   "metadata": {},
   "outputs": [
    {
     "data": {
      "text/plain": [
       "tensor([9, 8, 9, 6, 3, 1, 3, 5, 9, 5, 1, 4, 3, 3, 6, 6, 6, 8, 9, 1, 7, 1, 5, 8,\n",
       "        0, 5, 3, 5, 9, 9, 8, 2, 9, 8, 7, 0, 8, 0, 4, 4, 2, 1, 1, 7, 6, 2, 6, 8,\n",
       "        5, 6, 2, 9, 6, 9, 7, 8, 0, 4, 1, 0, 7, 7, 6, 0], device='cuda:0')"
      ]
     },
     "execution_count": 167,
     "metadata": {},
     "output_type": "execute_result"
    }
   ],
   "source": [
    "train_dl.one_batch()[1].squeeze(\n",
    ")"
   ]
  },
  {
   "cell_type": "code",
   "execution_count": 169,
   "metadata": {},
   "outputs": [
    {
     "data": {
      "text/plain": [
       "tensor([9, 3, 9, 0, 3, 1, 3, 3, 9, 3, 1, 0, 3, 3, 3, 0, 6, 3, 9, 1, 7, 1, 3, 3,\n",
       "        0, 3, 3, 2, 9, 9, 3, 0, 3, 3, 7, 0, 3, 3, 9, 0, 2, 1, 3, 7, 6, 2, 6, 3,\n",
       "        3, 3, 3, 9, 3, 9, 3, 7, 0, 9, 3, 0, 7, 7, 0, 0], device='cuda:0')"
      ]
     },
     "execution_count": 169,
     "metadata": {},
     "output_type": "execute_result"
    }
   ],
   "source": [
    "mnist_model(train_dl.one_batch()[0]).argmax(dim=1)"
   ]
  }
 ],
 "metadata": {
  "kernelspec": {
   "display_name": "Python 3",
   "language": "python",
   "name": "python3"
  },
  "language_info": {
   "codemirror_mode": {
    "name": "ipython",
    "version": 3
   },
   "file_extension": ".py",
   "mimetype": "text/x-python",
   "name": "python",
   "nbconvert_exporter": "python",
   "pygments_lexer": "ipython3",
   "version": "3.9.18"
  }
 },
 "nbformat": 4,
 "nbformat_minor": 2
}
